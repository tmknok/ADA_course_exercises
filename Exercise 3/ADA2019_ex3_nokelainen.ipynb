{
 "cells": [
  {
   "cell_type": "markdown",
   "metadata": {},
   "source": [
    "# Tiina Nokelainen\n",
    "\n",
    "## Leave-subject-out cross-validation"
   ]
  },
  {
   "cell_type": "markdown",
   "metadata": {},
   "source": [
    "\n",
    "### Used libraries\n",
    "- Pandas Numpy\n",
    "- Sklearn neighbors: K neighbor classifier \n",
    "- Matplot library - pyplot (just for fun)\n",
    "\n",
    "### Used methods\n",
    "Firstly z-score on subject level (used the example code from the slides with a little change). I used the Sklearn knn classifier with euclidean distance and uniform weights (these are default) and k-value of 37. C-index value is calculated to every fold (one fold being one subject). \n",
    "\n",
    "### Best and worse results\n",
    "- Best C-index when the test set is subject 28: 0.82\n",
    "- Worst C-index with subject 6: 0.49\n",
    "\n",
    "### Average result\n",
    "Average C-index was 0.63\n",
    "\n",
    "### Own interpretation\n",
    "C-index score varies quite a lot between the worst (0.49) and the best (0.82) score. Pain levels are very hard to put in scales (pain levels are individual) and that probably affected the results even though the z-score was applied in subject level. "
   ]
  },
  {
   "cell_type": "markdown",
   "metadata": {},
   "source": [
    "\n",
    "### All c-index values\n",
    "\n",
    "| Subject id | C-index | \n",
    "| --- | --- | \n",
    "| 1 | 0.76 |\n",
    "| 2 | 0.57 |\n",
    "| 3 | 0.52 |\n",
    "| 4 | 0.69 |\n",
    "| 5 | 0.59 |\n",
    "| 6 | 0.49 |\n",
    "| 7 | 0.66 |\n",
    "| 8 | 0.67 |\n",
    "| 9 | 0.53 |\n",
    "| 10 | 0.58 |\n",
    "| 11 | 0.66 |\n",
    "| 12 | 0.64 |\n",
    "| 13 | 0.65 |\n",
    "| 14 | 0.56 |\n",
    "| 15 | 0.79 |\n",
    "| 16 | 0.69 |\n",
    "| 17 | 0.70 |\n",
    "| 18 | 0.71 |\n",
    "| 19 | 0.65 |\n",
    "| 20 | 0.51 |\n",
    "| 21 | 0.66 |\n",
    "| 22 | 0.52 |\n",
    "| 23 | 0.67 |\n",
    "| 24 | 0.50 |\n",
    "| 25 | 0.61 |\n",
    "| 26 | 0.57 |\n",
    "| 27 | 0.69 |\n",
    "| 28 | 0.82 |\n",
    "| 29 | 0.63 |\n",
    "| 30 | 0.64 |\n",
    "| 31 | 0.56 |\n"
   ]
  },
  {
   "cell_type": "code",
   "execution_count": 15,
   "metadata": {},
   "outputs": [],
   "source": [
    "import pandas as pd\n",
    "import numpy as np\n",
    "from sklearn.neighbors import KNeighborsClassifier\n",
    "import matplotlib.pyplot as plt\n",
    "from sklearn.metrics import accuracy_score\n",
    "\n",
    "read = pd.read_csv(\"paindata.csv\")\n",
    "\n",
    "featcols = ['feat1', 'feat2', 'feat3', 'feat4']\n",
    "zscore = lambda x: (x - x.mean()) / x.std()\n",
    "\n",
    "# subject-level z-score\n",
    "dfs = read.copy()\n",
    "dfs[featcols] = dfs.groupby(dfs.subject)[featcols].transform(zscore)"
   ]
  },
  {
   "cell_type": "code",
   "execution_count": 2,
   "metadata": {},
   "outputs": [],
   "source": [
    "def cindex(predictions, truevalues):\n",
    "\n",
    "    n = 0\n",
    "    n_sum = 0\n",
    "    for i in range(len(truevalues)):\n",
    "        t = truevalues[i]\n",
    "        p = predictions[i]\n",
    "        for j in range(i+1,len(truevalues)):\n",
    "            nt = truevalues[j]\n",
    "            np = predictions[j]\n",
    "            if (t != nt):\n",
    "                n += 1\n",
    "                if (p < np and t < nt) or (p > np and t > nt):\n",
    "                        n_sum += 1\n",
    "                elif p == np:\n",
    "                    n_sum += 0.5\n",
    "    return n_sum/n"
   ]
  },
  {
   "cell_type": "code",
   "execution_count": 12,
   "metadata": {},
   "outputs": [
    {
     "data": {
      "text/plain": [
       "array([[ 1.00000000e+00,  1.00000000e+00,  1.52426212e+00,\n",
       "         5.16253124e-02, -5.49833102e-01, -1.24664567e+00],\n",
       "       [ 1.00000000e+00,  1.00000000e+00,  1.52426212e+00,\n",
       "        -4.43984423e-01,  2.22669759e-03, -1.22992566e+00],\n",
       "       [ 1.00000000e+00,  1.00000000e+00,  9.84723653e-01,\n",
       "         1.13986901e+00, -5.26649673e-03, -1.21198318e+00],\n",
       "       ...,\n",
       "       [ 3.10000000e+01,  3.00000000e+00, -1.05441094e+00,\n",
       "        -1.30460878e+00, -7.06942842e-01,  8.27783740e-01],\n",
       "       [ 3.10000000e+01,  3.00000000e+00, -1.15002289e+00,\n",
       "        -3.61097886e-01,  4.57559378e-01,  8.47852130e-01],\n",
       "       [ 3.10000000e+01,  3.00000000e+00, -1.17022623e+00,\n",
       "        -6.37736899e-01,  1.03565268e-01,  8.68996175e-01]])"
      ]
     },
     "execution_count": 12,
     "metadata": {},
     "output_type": "execute_result"
    }
   ],
   "source": [
    "data = dfs.drop([\"test\",\"label_time\"], axis=1).values\n",
    "\n",
    "data"
   ]
  },
  {
   "cell_type": "code",
   "execution_count": 13,
   "metadata": {},
   "outputs": [
    {
     "name": "stdout",
     "output_type": "stream",
     "text": [
      "[[ 1.52426212e+00  5.16253124e-02 -5.49833102e-01 -1.24664567e+00]\n",
      " [ 1.52426212e+00 -4.43984423e-01  2.22669759e-03 -1.22992566e+00]\n",
      " [ 9.84723653e-01  1.13986901e+00 -5.26649673e-03 -1.21198318e+00]\n",
      " ...\n",
      " [-3.57330462e+00 -9.24633656e-01 -1.34018971e+00  1.82299832e+00]\n",
      " [-2.72910707e+00 -2.47537711e+00 -9.46291562e-01  1.85418480e+00]\n",
      " [-2.15399464e+00 -8.24559759e-01 -9.46291562e-01  1.88366720e+00]]\n",
      "C-index score for subject 1 is 0.76\n",
      "\n",
      "Average C-index is 0.76\n",
      "C-index calculated for all intances predictions separately is 0.76\n"
     ]
    }
   ],
   "source": [
    "# the amount of different subjects which is in this case 31\n",
    "# subject's ids are from 1 to 31\n",
    "ids = pd.Series(dfs.iloc[:,0]).unique()\n",
    "n = len(ids)\n",
    "\n",
    "knn = KNeighborsClassifier(n_neighbors=37)\n",
    "\n",
    "# this is just for the comparison of average c-index and c-index with all instances' predictions\n",
    "predictions = []\n",
    "labels = []\n",
    "all_cindex = []\n",
    "\n",
    "\n",
    "\n",
    "# leave-one-subject-out cross-validation\n",
    "# 31 subjects, 31 folds\n",
    "# n = 31\n",
    "for i in range(1):\n",
    "    \n",
    "    # train_set has all but one subject (subject which id is ids[n])\n",
    "    train_set = np.array(list(filter(lambda x: x[0] != ids[i], data)))\n",
    "    # test_set with only one subject (subject id is ids[n])\n",
    "    test_set = np.array(list(filter(lambda x: x[0] == ids[i], data)))\n",
    "    \n",
    "    # splits training and test sets from labels and features\n",
    "    # also removes subject-column\n",
    "    X_train, Y_train = train_set[:,2:], train_set[:,1]\n",
    "    X_test, Y_test = test_set[:,2:], test_set[:,1]\n",
    "    \n",
    "    print(X_test)\n",
    "\n",
    "    # fits the training set to k-nearest neighbor model\n",
    "    # k = 37\n",
    "    knn.fit(X_train, Y_train)\n",
    "    \n",
    "    # calculates c-index for current subject\n",
    "    c_index = round(cindex(list(knn.predict(X_test)), Y_test), 2)\n",
    "    \n",
    "    print(\"C-index score for subject\", ids[i], \"is\", c_index)\n",
    "    \n",
    "    all_cindex.append(c_index)\n",
    "    predictions += list(knn.predict(X_test))\n",
    "    labels += list(Y_test)\n",
    "    \n",
    "print(\"\\nAverage C-index is\", round(np.mean(all_cindex), 2))\n",
    "print(\"C-index calculated for all intances predictions separately is\", round(cindex(predictions, labels), 2))"
   ]
  },
  {
   "cell_type": "code",
   "execution_count": 17,
   "metadata": {},
   "outputs": [
    {
     "name": "stdout",
     "output_type": "stream",
     "text": [
      "Minimum C-index score is 0.49 when the subject-fold is 6\n",
      "Maximum C-index score is 0.82 when the subject-fold is 28\n"
     ]
    },
    {
     "data": {
      "image/png": "[encoded data removed]",
      "text/plain": [
       "<Figure size 432x288 with 1 Axes>"
      ]
     },
     "metadata": {
      "needs_background": "light"
     },
     "output_type": "display_data"
    }
   ],
   "source": [
    "\n",
    "min_ind = np.argmin(all_cindex)\n",
    "max_ind = np.argmax(all_cindex)\n",
    "\n",
    "print(\"Minimum C-index score is\", all_cindex[min_ind], \"when the subject-fold is\", min_ind+1)\n",
    "print(\"Maximum C-index score is\", all_cindex[max_ind], \"when the subject-fold is\", max_ind+1)\n",
    "\n",
    "# this is just for fun\n",
    "fig = plt.plot(all_cindex)"
   ]
  }
 ],
 "metadata": {
  "kernelspec": {
   "display_name": "Python 3",
   "language": "python",
   "name": "python3"
  },
  "language_info": {
   "codemirror_mode": {
    "name": "ipython",
    "version": 3
   },
   "file_extension": ".py",
   "mimetype": "text/x-python",
   "name": "python",
   "nbconvert_exporter": "python",
   "pygments_lexer": "ipython3",
   "version": "3.7.0"
  }
 },
 "nbformat": 4,
 "nbformat_minor": 2
}
