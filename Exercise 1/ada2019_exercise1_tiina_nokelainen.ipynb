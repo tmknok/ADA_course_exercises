{
 "cells": [
  {
   "cell_type": "markdown",
   "metadata": {},
   "source": [
    "# K-nearest neighbor implementation\n",
    "### Tiina Nokelainen"
   ]
  },
  {
   "cell_type": "code",
   "execution_count": 4,
   "metadata": {},
   "outputs": [],
   "source": [
    "import pandas as pd\n",
    "import numpy as np\n",
    "import math\n",
    "import operator\n",
    "from sklearn.utils import shuffle\n",
    "from collections import Counter"
   ]
  },
  {
   "cell_type": "code",
   "execution_count": 2,
   "metadata": {},
   "outputs": [],
   "source": [
    "# Euclidean distance\n",
    "# summarizes the distances to distance-variable and returns squareroot of the distance\n",
    "def distance(trainX, predX):\n",
    "    \n",
    "    distance = 0\n",
    "    \n",
    "    for n in range(1,len(trainX)):\n",
    "        distance += math.pow((trainX[n] - predX[n]), 2)\n",
    "    \n",
    "    return math.sqrt(distance)"
   ]
  },
  {
   "cell_type": "code",
   "execution_count": 3,
   "metadata": {},
   "outputs": [],
   "source": [
    "# Split the dataset to training data and testing data\n",
    "# split is the size of the training data\n",
    "def splitData(dataSet, split, trainSet=[], testSet=[]):\n",
    "\n",
    "    \n",
    "    index = math.floor(len(dataSet)*split)\n",
    "    \n",
    "    for i in range(index):\n",
    "        trainSet.append(dataSet[i])\n",
    "    \n",
    "    for i in range(index, len(dataSet)):\n",
    "        testSet.append(dataSet[i])\n"
   ]
  },
  {
   "cell_type": "code",
   "execution_count": 5,
   "metadata": {},
   "outputs": [],
   "source": [
    "# returns k number of nearest neighbors\n",
    "def getNeighbors(trainSet, testInstance, k):\n",
    "\n",
    "    distances = []\n",
    "\n",
    "    for i in range(len(trainSet)):\n",
    "        # adds all the distances to the distances-variable\n",
    "        distances.append((trainSet[i][0], distance(trainSet[i], testInstance)))\n",
    "        \n",
    "    # sorts the distances by the distance-value (which is the second column)\n",
    "    distances.sort(key=operator.itemgetter(1))\n",
    "\n",
    "    neighbors = []\n",
    "    \n",
    "    # stores k nearest neighbors to neighbors\n",
    "    for i in range(k):\n",
    "        neighbors.append(distances[i][0])\n",
    "    \n",
    "    return neighbors"
   ]
  },
  {
   "cell_type": "code",
   "execution_count": 6,
   "metadata": {},
   "outputs": [],
   "source": [
    "# returns the accuracy of predictions\n",
    "def accuracy(predictions, testSet):\n",
    "    \n",
    "    correct = 0\n",
    "    \n",
    "    for i in range(len(testSet)):\n",
    "        if predictions[i]==testSet[i][0]:\n",
    "            correct += 1\n",
    "    \n",
    "    return (round(correct / len(testSet)*100, 2))"
   ]
  },
  {
   "cell_type": "code",
   "execution_count": 7,
   "metadata": {},
   "outputs": [],
   "source": [
    "def kNN(data,split,times):    \n",
    "    \n",
    "    testSet = []\n",
    "    trainSet = []\n",
    "    \n",
    "    splitData(data, split, trainSet, testSet)\n",
    "    \n",
    "    # tests the data with k values from 1 to times\n",
    "    for x in range(1,times+1):\n",
    "    \n",
    "        k=x\n",
    "    \n",
    "        predictions = []\n",
    "    \n",
    "        for i in range(len(testSet)):\n",
    "            neighbors = getNeighbors(trainSet, testSet[i], k)\n",
    "            label = Counter(neighbors).most_common()[0][0]\n",
    "            predictions.append(label)\n",
    "        \n",
    "    \n",
    "        a = accuracy(predictions, testSet)\n",
    "    \n",
    " \n",
    "        print(\"k =\", k, \":\" , a)\n",
    "    "
   ]
  },
  {
   "cell_type": "markdown",
   "metadata": {},
   "source": [
    "# Cross-validation"
   ]
  },
  {
   "cell_type": "code",
   "execution_count": 8,
   "metadata": {},
   "outputs": [],
   "source": [
    "def cv(k,data,n):\n",
    "    \n",
    "    # splits the data to n folds\n",
    "    splitted = np.array_split(data,n)\n",
    "    accur = []\n",
    "    \n",
    "    for i in range(n):\n",
    "        \n",
    "        testset = splitted[i]\n",
    "        \n",
    "        trainset = np.concatenate(np.delete(splitted, i,0), axis=0)\n",
    "        \n",
    "        preds = []\n",
    "        \n",
    "        for j in range(len(testset)):\n",
    "            neighbors = getNeighbors(trainset, testset[j], k)\n",
    "            label = Counter(neighbors).most_common()[0][0]\n",
    "            preds.append(label)\n",
    "            \n",
    "        accur.append(accuracy(preds, testset))\n",
    "        \n",
    "    print(\"k =\", k, \"accuracy is\", round(np.mean(accur),2))"
   ]
  },
  {
   "cell_type": "code",
   "execution_count": 9,
   "metadata": {},
   "outputs": [],
   "source": [
    "# data preparations\n",
    "\n",
    "wineData = np.loadtxt('wine.data', dtype=np.float, delimiter=',')\n",
    "np.random.shuffle(wineData)\n",
    "\n",
    "irisdata = pd.read_csv('iris.data', header=None)\n",
    "irisdata = shuffle(irisdata)\n",
    "irisdata.reset_index(drop=True)\n",
    "\n",
    "irisdata = irisdata.reset_index(drop=True)\n",
    "\n",
    "irisdata = irisdata[[4,0,1,2,3]]\n",
    "\n",
    "irisDataSet = irisdata.values"
   ]
  },
  {
   "cell_type": "code",
   "execution_count": 10,
   "metadata": {},
   "outputs": [
    {
     "name": "stdout",
     "output_type": "stream",
     "text": [
      "WINE DATA with leave-one-out cross validation:\n",
      "k = 1 accuracy is 76.97\n",
      "k = 2 accuracy is 76.97\n",
      "k = 3 accuracy is 74.16\n",
      "k = 4 accuracy is 73.03\n",
      "k = 5 accuracy is 71.91\n",
      "k = 6 accuracy is 71.35\n",
      "k = 7 accuracy is 69.66\n",
      "k = 8 accuracy is 74.16\n",
      "k = 9 accuracy is 70.79\n",
      "IRIS DATA with leave-one-out cross validation:\n",
      "k = 1 accuracy is 96.0\n",
      "k = 2 accuracy is 96.0\n",
      "k = 3 accuracy is 96.0\n",
      "k = 4 accuracy is 96.0\n",
      "k = 5 accuracy is 96.67\n",
      "k = 6 accuracy is 96.0\n",
      "k = 7 accuracy is 96.67\n",
      "k = 8 accuracy is 96.67\n",
      "k = 9 accuracy is 96.67\n",
      "k = 10 accuracy is 95.33\n",
      "k = 11 accuracy is 97.33\n",
      "k = 12 accuracy is 96.67\n",
      "k = 13 accuracy is 96.67\n",
      "k = 14 accuracy is 97.33\n",
      "k = 15 accuracy is 97.33\n",
      "k = 16 accuracy is 97.33\n",
      "k = 17 accuracy is 97.33\n",
      "k = 18 accuracy is 97.33\n",
      "k = 19 accuracy is 98.0\n",
      "k = 20 accuracy is 97.33\n",
      "k = 21 accuracy is 98.0\n",
      "k = 22 accuracy is 97.33\n",
      "k = 23 accuracy is 96.67\n",
      "k = 24 accuracy is 96.67\n",
      "k = 25 accuracy is 96.67\n",
      "k = 26 accuracy is 96.67\n",
      "k = 27 accuracy is 96.67\n",
      "k = 28 accuracy is 96.0\n",
      "k = 29 accuracy is 95.33\n"
     ]
    }
   ],
   "source": [
    "# main\n",
    "\n",
    "#print(\"WINE DATA:\")\n",
    "#kNN(wineData, 0.7, 10)\n",
    "\n",
    "#print(\"IRIS DATA:\")\n",
    "#kNN(irisDataSet, 0.66, 10)\n",
    "\n",
    "print(\"WINE DATA with leave-one-out cross validation:\")\n",
    "for i in range(1,10):\n",
    "    cv(i,wineData,len(wineData))\n",
    "    \n",
    "\n",
    "print(\"IRIS DATA with leave-one-out cross validation:\")    \n",
    "for i in range(1,30):    \n",
    "    cv(i,irisDataSet,len(irisDataSet))"
   ]
  },
  {
   "cell_type": "markdown",
   "metadata": {},
   "source": [
    "Best k-value for iris.data is when k = 19 (accuracy 98 %) with leave-one-out cross validation (special cade of k-fold  cv with k being n). This sounds kind of weird, I think there is something wrong with my CV or kNN or possibly both."
   ]
  }
 ],
 "metadata": {
  "kernelspec": {
   "display_name": "Python 3",
   "language": "python",
   "name": "python3"
  },
  "language_info": {
   "codemirror_mode": {
    "name": "ipython",
    "version": 3
   },
   "file_extension": ".py",
   "mimetype": "text/x-python",
   "name": "python",
   "nbconvert_exporter": "python",
   "pygments_lexer": "ipython3",
   "version": "3.7.0"
  }
 },
 "nbformat": 4,
 "nbformat_minor": 2
}
